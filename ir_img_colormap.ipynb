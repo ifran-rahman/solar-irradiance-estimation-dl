{
 "cells": [
  {
   "cell_type": "code",
   "execution_count": 2,
   "metadata": {},
   "outputs": [
    {
     "name": "stdout",
     "output_type": "stream",
     "text": [
      "PIL: 0.05996539999999584\n"
     ]
    }
   ],
   "source": [
    "import matplotlib as mpl\n",
    "import matplotlib.pyplot as plt\n",
    "import matplotlib.image as mpimg\n",
    "import numpy as np\n",
    "\n",
    "import timeit\n",
    "\n",
    "from PIL import Image\n",
    "\n",
    "def pil_test():\n",
    "    cm_hot = mpl.cm.get_cmap('hot')\n",
    "    img_src = Image.open('1514229315IR.png').convert('L')\n",
    "    img_src.thumbnail((512,512))\n",
    "    im = np.array(img_src)\n",
    "    im = cm_hot(im)\n",
    "    im = np.uint8(im * 255)\n",
    "    im = Image.fromarray(im)\n",
    "    im.save('output.png')\n",
    "import matplotlib as mpl # in python\n",
    "cm = mpl.colors.ListedColormap(C/255.0)\n",
    "plt.imshow(..., cmap=cm) "
   ]
  },
  {
   "cell_type": "code",
   "execution_count": 10,
   "metadata": {},
   "outputs": [
    {
     "data": {
      "text/plain": [
       "True"
      ]
     },
     "execution_count": 10,
     "metadata": {},
     "output_type": "execute_result"
    }
   ],
   "source": [
    "import cv2\n",
    "import numpy as np\n",
    "\n",
    "img = 'd.png'\n",
    "\n",
    "# Load the grayscale IR image\n",
    "image = cv2.imread(img, cv2.IMREAD_GRAYSCALE)\n",
    "\n",
    "# Normalize the image intensity values to the range [0, 1]\n",
    "normalized_image = cv2.normalize(image, None, 0, 255, cv2.NORM_MINMAX)\n",
    "\n",
    "# Apply a colormap to simulate thermal colors\n",
    "thermal_image = cv2.applyColorMap(normalized_image, cv2.COLORMAP_JET)\n",
    "\n",
    "# Display the thermal image\n",
    "cv2.imshow('Thermal Image', thermal_image)\n",
    "cv2.waitKey(0)\n",
    "cv2.destroyAllWindows()\n",
    "\n",
    "# Save the thermal image\n",
    "cv2.imwrite('thermal_'+ img, thermal_image)"
   ]
  },
  {
   "cell_type": "code",
   "execution_count": 2,
   "metadata": {},
   "outputs": [
    {
     "data": {
      "image/png": "[encoded data removed]",
      "text/plain": [
       "<Figure size 576x432 with 1 Axes>"
      ]
     },
     "metadata": {
      "needs_background": "light"
     },
     "output_type": "display_data"
    }
   ],
   "source": [
    "import matplotlib.pyplot as plt\n",
    "\n",
    "# Sample list of data points (replace this with your \"targets\" list)\n",
    "targets = [1, 2, 5, 3, 7, 4, 6]\n",
    "\n",
    "# Calculate the x-coordinates for the data points\n",
    "x_values = 6\n",
    "\n",
    "# Create a plot with gaps between data points\n",
    "plt.figure(figsize=(8, 6))\n",
    "plt.plot(x_values, targets, marker='o', markersize=8, linestyle='-', linewidth=2, color='b')\n",
    "\n",
    "# Customize the plot\n",
    "plt.xlabel('X-Axis Label')\n",
    "plt.ylabel('Y-Axis Label')\n",
    "plt.title('Plot with Gaps Between Data Points')\n",
    "plt.xticks(x_values)  # Set custom x-tick positions\n",
    "plt.grid(True)  # Add gridlines for better readability\n",
    "\n",
    "# Show the plot\n",
    "plt.show()"
   ]
  },
  {
   "cell_type": "code",
   "execution_count": null,
   "metadata": {},
   "outputs": [],
   "source": []
  }
 ],
 "metadata": {
  "kernelspec": {
   "display_name": "pytorch",
   "language": "python",
   "name": "pytorch"
  },
  "language_info": {
   "codemirror_mode": {
    "name": "ipython",
    "version": 3
   },
   "file_extension": ".py",
   "mimetype": "text/x-python",
   "name": "python",
   "nbconvert_exporter": "python",
   "pygments_lexer": "ipython3",
   "version": "3.7.5"
  }
 },
 "nbformat": 4,
 "nbformat_minor": 2
}
